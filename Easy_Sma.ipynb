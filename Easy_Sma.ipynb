{
 "cells": [
  {
   "cell_type": "code",
   "execution_count": null,
   "metadata": {
    "slideshow": {
     "slide_type": "slide"
    }
   },
   "outputs": [],
   "source": [
    "%cd C:/Temp\n",
    "import TSutantoSMA as sma"
   ]
  },
  {
   "cell_type": "code",
   "execution_count": null,
   "metadata": {
    "slideshow": {
     "slide_type": "slide"
    }
   },
   "outputs": [],
   "source": [
    "# Crawling twitter\n",
    "topic = '\"menurut saya\" jakarta'\n",
    "Tweets = sma.crawl(topic, N=300)"
   ]
  },
  {
   "cell_type": "code",
   "execution_count": null,
   "metadata": {
    "slideshow": {
     "slide_type": "slide"
    }
   },
   "outputs": [],
   "source": [
    "# Take a peek on the Tweet data that we have\n",
    "print(Tweets[0])"
   ]
  },
  {
   "cell_type": "code",
   "execution_count": null,
   "metadata": {
    "slideshow": {
     "slide_type": "slide"
    }
   },
   "outputs": [],
   "source": [
    "# Draw the Tweet Graph\n",
    "G = sma.Graph(Tweets) # Label = False"
   ]
  },
  {
   "cell_type": "code",
   "execution_count": null,
   "metadata": {
    "slideshow": {
     "slide_type": "slide"
    }
   },
   "outputs": [],
   "source": [
    "%matplotlib inline\n",
    "# Let's now examine, how many communities are they in the Graph?\n",
    "Gt = sma.Community(G)"
   ]
  },
  {
   "cell_type": "code",
   "execution_count": null,
   "metadata": {
    "slideshow": {
     "slide_type": "slide"
    }
   },
   "outputs": [],
   "source": [
    "# Let's now examine, who are the most \"important\" users in this Graph?\n",
    "Gt = sma.Centrality(G)"
   ]
  },
  {
   "cell_type": "code",
   "execution_count": null,
   "metadata": {
    "slideshow": {
     "slide_type": "slide"
    }
   },
   "outputs": [],
   "source": [
    "# Let us now examine the content of the Tweets\n",
    "# but First let's clean the Tweet Data\n",
    "Tweets = sma.cleanTweets(Tweets)"
   ]
  },
  {
   "cell_type": "code",
   "execution_count": null,
   "metadata": {
    "slideshow": {
     "slide_type": "slide"
    }
   },
   "outputs": [],
   "source": [
    "# Mari kita lihat secara general data Tweet kita dengan menggunakan wordcloud\n",
    "sma.wordClouds(Tweets)"
   ]
  },
  {
   "cell_type": "code",
   "execution_count": null,
   "metadata": {
    "slideshow": {
     "slide_type": "slide"
    }
   },
   "outputs": [],
   "source": [
    "# Mari kita mulai dengan melihat apa yang Netizen bicarakan?\n",
    "tf, tm, vec = sma.getTopics(Tweets)"
   ]
  },
  {
   "cell_type": "code",
   "execution_count": null,
   "metadata": {
    "slideshow": {
     "slide_type": "slide"
    }
   },
   "outputs": [],
   "source": [
    "# Sekarang mari kita lihat Sentimen mereka disini. This might take a while ... Since you know ... \n",
    "# I skip performance/efficiency in this simple tool ... \n",
    "SA = sma.sentiment(Tweets)"
   ]
  },
  {
   "cell_type": "code",
   "execution_count": null,
   "metadata": {
    "slideshow": {
     "slide_type": "slide"
    }
   },
   "outputs": [],
   "source": [
    "# intip yuks yang positif contohnya seperti apa.\n",
    "sma.printSA(SA, emo = 'positif')"
   ]
  },
  {
   "cell_type": "code",
   "execution_count": null,
   "metadata": {
    "slideshow": {
     "slide_type": "slide"
    }
   },
   "outputs": [],
   "source": [
    "# Bagaimana dengan yang Negatif?\n",
    "sma.printSA(SA, emo = 'negatif')"
   ]
  },
  {
   "cell_type": "code",
   "execution_count": null,
   "metadata": {
    "slideshow": {
     "slide_type": "slide"
    }
   },
   "outputs": [],
   "source": [
    "# Netral tone ... \n",
    "sma.printSA(SA, emo = 'netral')"
   ]
  },
  {
   "cell_type": "code",
   "execution_count": null,
   "metadata": {
    "slideshow": {
     "slide_type": "slide"
    }
   },
   "outputs": [],
   "source": [
    "# Bagaimana dengan yang Subjektif?\n",
    "sma.printSA(SA, emo = 'subjektif')"
   ]
  },
  {
   "cell_type": "code",
   "execution_count": null,
   "metadata": {
    "slideshow": {
     "slide_type": "slide"
    }
   },
   "outputs": [],
   "source": [
    "# Kalau ini terindikasi objektif\n",
    "sma.printSA(SA, emo = 'objektif')"
   ]
  },
  {
   "cell_type": "code",
   "execution_count": null,
   "metadata": {
    "slideshow": {
     "slide_type": "slide"
    }
   },
   "outputs": [],
   "source": [
    "# Mari kita dalami lebih jauh Topic Pembicaraan ini\n",
    "import pyLDAvis, pyLDAvis.sklearn; pyLDAvis.enable_notebook()\n",
    "pyLDAvis.sklearn.prepare(tf, tm, vec)  "
   ]
  },
  {
   "cell_type": "markdown",
   "metadata": {
    "slideshow": {
     "slide_type": "slide"
    }
   },
   "source": [
    "<h1>That&#39;s it ... have Fun! ...</h1>\n",
    "\n",
    "<p>Modify the parameters such as &quot;topic&quot; , N, etc ... to suits your need ...</p>\n",
    "\n",
    "<p>Go to</p>\n",
    "\n",
    "<p><a href=\"https://taufiksutanto.blogspot.com/2018/01/easiest-social-media-analytics.html\" target=\"_blank\">https://taufiksutanto.blogspot.com/2018/01/easiest-social-media-analytics.html</a></p>\n",
    "\n",
    "<p>for more details and discussion ...</p>\n",
    "\n",
    "<p>Tools ini di jalankan di environment berikut:</p>\n",
    "\n",
    "<pre>\n",
    "# -*- coding: utf-8 -*-\n",
    "# Python &#39;3.6.3&#39;, Sastrawi &#39;1.0.1&#39;, MatPlotLib &#39;3.2.5&#39; , Pattern &#39;2.0.5&#39;, TextBlob &#39;1.0.22&#39;, pyLDAvis &#39;2.1.1&#39;\n",
    "</pre>\n",
    "\n",
    "<p>Cheers,</p>\n",
    "\n",
    "<p>&lt; /TES &gt;<sup>&reg;</sup></p>\n"
   ]
  }
 ],
 "metadata": {
  "anaconda-cloud": {},
  "celltoolbar": "Slideshow",
  "kernelspec": {
   "display_name": "Python 3",
   "language": "python",
   "name": "python3"
  },
  "language_info": {
   "codemirror_mode": {
    "name": "ipython",
    "version": 3
   },
   "file_extension": ".py",
   "mimetype": "text/x-python",
   "name": "python",
   "nbconvert_exporter": "python",
   "pygments_lexer": "ipython3",
   "version": "3.6.3"
  }
 },
 "nbformat": 4,
 "nbformat_minor": 1
}
